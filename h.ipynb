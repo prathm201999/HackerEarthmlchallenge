{
 "cells": [
  {
   "cell_type": "code",
   "execution_count": null,
   "metadata": {},
   "outputs": [],
   "source": [
    "import pandas as pd \n",
    "import numpy as np                     # For mathematical calculations \n",
    "import seaborn as sns                  # For data visualization \n",
    "import matplotlib.pyplot as plt        # For plotting graphs \n",
    "import warnings\n",
    "warnings.simplefilter(action='ignore')\n",
    "from statsmodels.stats.outliers_influence import variance_inflation_factor"
   ]
  },
  {
   "cell_type": "code",
   "execution_count": null,
   "metadata": {},
   "outputs": [],
   "source": [
    "train=pd.read_csv(\"Train.csv\") \n",
    "test=pd.read_csv(\"Test.csv\")\n",
    "\n",
    "\n",
    "#dropping all unrelevant column\n",
    "train.drop(['Gender','Education_Level',\n",
    "       'Relationship_Status', 'Hometown','growth_rate'],1,inplace=True)\n",
    "test.drop([ 'Gender','Education_Level',\n",
    "       'Relationship_Status', 'Hometown','growth_rate'],1,inplace=True)\n",
    "train.columns"
   ]
  },
  {
   "cell_type": "code",
   "execution_count": null,
   "metadata": {},
   "outputs": [],
   "source": [
    "train_original=train.copy() \n",
    "test_original=test.copy()\n",
    "\n",
    "\n",
    "train.head()"
   ]
  },
  {
   "cell_type": "code",
   "execution_count": null,
   "metadata": {},
   "outputs": [],
   "source": [
    "train.describe()"
   ]
  },
  {
   "cell_type": "code",
   "execution_count": null,
   "metadata": {},
   "outputs": [],
   "source": [
    "train.dtypes"
   ]
  },
  {
   "cell_type": "code",
   "execution_count": null,
   "metadata": {},
   "outputs": [],
   "source": [
    "print(train.shape)\n",
    "print(test.shape)\n",
    "train.columns"
   ]
  },
  {
   "cell_type": "markdown",
   "metadata": {},
   "source": []
  },
  {
   "cell_type": "code",
   "execution_count": null,
   "metadata": {},
   "outputs": [],
   "source": []
  },
  {
   "cell_type": "code",
   "execution_count": null,
   "metadata": {},
   "outputs": [],
   "source": []
  },
  {
   "cell_type": "code",
   "execution_count": null,
   "metadata": {},
   "outputs": [],
   "source": []
  },
  {
   "cell_type": "code",
   "execution_count": null,
   "metadata": {
    "scrolled": true
   },
   "outputs": [],
   "source": []
  },
  {
   "cell_type": "code",
   "execution_count": null,
   "metadata": {},
   "outputs": [],
   "source": [
    "\n"
   ]
  },
  {
   "cell_type": "code",
   "execution_count": null,
   "metadata": {},
   "outputs": [],
   "source": [
    "#sns.pairplot(train)"
   ]
  },
  {
   "cell_type": "code",
   "execution_count": null,
   "metadata": {},
   "outputs": [],
   "source": [
    "train.isnull().sum()"
   ]
  },
  {
   "cell_type": "code",
   "execution_count": null,
   "metadata": {},
   "outputs": [],
   "source": [
    "train['Age'].fillna(train['Age'].mean(), inplace=True) \n",
    "train['Time_of_service'].fillna(train['Time_of_service'].mean(), inplace=True) \n",
    "train['Work_Life_balance'].fillna(train['Work_Life_balance'].mode()[0], inplace=True)\n",
    "train['Pay_Scale'].fillna(train['Pay_Scale'].mode()[0], inplace=True)\n",
    "train['VAR2'].fillna(train['VAR2'].mean(), inplace=True)\n",
    "train['VAR4'].fillna(train['VAR4'].mode()[0], inplace=True) \n",
    "train.isnull().sum()"
   ]
  },
  {
   "cell_type": "code",
   "execution_count": null,
   "metadata": {},
   "outputs": [],
   "source": [
    "test.isnull().sum()"
   ]
  },
  {
   "cell_type": "code",
   "execution_count": null,
   "metadata": {},
   "outputs": [],
   "source": [
    "test['Age'].fillna(test['Age'].mean(), inplace=True) \n",
    "test['Time_of_service'].fillna(test['Time_of_service'].mean(), inplace=True) \n",
    "test['Work_Life_balance'].fillna(test['Work_Life_balance'].mode()[0], inplace=True)\n",
    "test['Pay_Scale'].fillna(test['Pay_Scale'].mode()[0], inplace=True)\n",
    "test['VAR2'].fillna(test['VAR2'].mean(), inplace=True)\n",
    "test['VAR4'].fillna(test['VAR4'].mode()[0], inplace=True) \n",
    "test.isnull().sum()"
   ]
  },
  {
   "cell_type": "code",
   "execution_count": null,
   "metadata": {},
   "outputs": [],
   "source": []
  },
  {
   "cell_type": "code",
   "execution_count": null,
   "metadata": {},
   "outputs": [],
   "source": [
    "#train['joining_age']=train['Age']-train['Time_of_service']\n",
    "#test['joining_age']=test['Age']-test['Time_of_service']\n",
    "#plt.hist(train['joining_age'])\n",
    "\n",
    "\n",
    "\n"
   ]
  },
  {
   "cell_type": "code",
   "execution_count": null,
   "metadata": {},
   "outputs": [],
   "source": [
    "\n",
    "train=train.drop(['Employee_ID'],1)\n",
    "empId = test['Employee_ID'].tolist()\n",
    "test=test.drop(['Employee_ID'],1)"
   ]
  },
  {
   "cell_type": "code",
   "execution_count": null,
   "metadata": {},
   "outputs": [],
   "source": [
    "X = train.drop('Attrition_rate',1) \n",
    "\n",
    "y = train.Attrition_rate\n"
   ]
  },
  {
   "cell_type": "code",
   "execution_count": null,
   "metadata": {},
   "outputs": [],
   "source": [
    "\n",
    "X=pd.get_dummies(X,drop_first=True) \n",
    "train=pd.get_dummies(train,drop_first=True) \n",
    "test=pd.get_dummies(test,drop_first=True)\n"
   ]
  },
  {
   "cell_type": "code",
   "execution_count": null,
   "metadata": {
    "scrolled": false
   },
   "outputs": [],
   "source": [
    "def calc_vif(X):\n",
    "\n",
    "    # Calculating VIF\n",
    "    vif = pd.DataFrame()\n",
    "    vif[\"variables\"] = X.columns\n",
    "    vif[\"VIF\"] = [variance_inflation_factor(X.values, i) for i in range(X.shape[1])]\n",
    "    return(vif)\n",
    "print(calc_vif(X))\n"
   ]
  },
  {
   "cell_type": "code",
   "execution_count": null,
   "metadata": {},
   "outputs": [],
   "source": [
    "#Variance Inflation Factor. During regression analysis, VIF assesses whether factors are correlated to each other (multicollinearity), which could affect p-values and the model isn't going to be as reliable\n",
    "#dropping column having high vif \n",
    "\n",
    "X.drop(['Age','VAR6','VAR1','VAR5'],1,inplace=True)\n",
    "test.drop(['Age','VAR6','VAR1','VAR5'],1,inplace=True)"
   ]
  },
  {
   "cell_type": "raw",
   "metadata": {},
   "source": [
    "# Model Building"
   ]
  },
  {
   "cell_type": "code",
   "execution_count": null,
   "metadata": {
    "scrolled": false
   },
   "outputs": [],
   "source": [
    "\n",
    "from sklearn.model_selection import KFold\n",
    "kf=KFold(n_splits=10, random_state=21, shuffle=True)\n",
    "for train_index, test_index in kf.split(X):\n",
    "    x_train, x_test = X.iloc[train_index], X.iloc[test_index]\n",
    "    y_train, y_test = y.iloc[train_index], y.iloc[test_index]\n"
   ]
  },
  {
   "cell_type": "code",
   "execution_count": null,
   "metadata": {
    "scrolled": true
   },
   "outputs": [],
   "source": [
    "import xgboost as xgb\n",
    "from sklearn.metrics import mean_squared_error\n",
    "xgbmodel = xgb.XGBRegressor(max_depth=3, random_state=21,max_leaf_nodes=3,learning_rate=0.04,colsample_bytree=0.4,gamma=0.9)\n",
    "xgbmodel"
   ]
  },
  {
   "cell_type": "code",
   "execution_count": null,
   "metadata": {},
   "outputs": [],
   "source": [
    "xgbmodel.fit(x_train, y_train)\n",
    "pred_y1 = xgbmodel.predict(x_test)\n",
    "print(xgbmodel.score(x_test,y_test))\n",
    "print((1-(np.sqrt(mean_squared_error(y_test,pred_y1))))*100)\n",
    "mean_squared_error(y_test,pred_y1)"
   ]
  },
  {
   "cell_type": "code",
   "execution_count": null,
   "metadata": {},
   "outputs": [],
   "source": [
    "\n",
    "pred_value=xgbmodel.predict(test)\n",
    "D = {\"Employee_ID\": empId, \"Attrition_rate\":pred_value}\n",
    "sub = pd.DataFrame(D)\n",
    "sub.to_csv('sample_submissionround1.csv', index=False)"
   ]
  },
  {
   "cell_type": "code",
   "execution_count": null,
   "metadata": {},
   "outputs": [],
   "source": []
  },
  {
   "cell_type": "code",
   "execution_count": null,
   "metadata": {},
   "outputs": [],
   "source": []
  },
  {
   "cell_type": "code",
   "execution_count": null,
   "metadata": {},
   "outputs": [],
   "source": []
  }
 ],
 "metadata": {
  "kernelspec": {
   "display_name": "Python 3",
   "language": "python",
   "name": "python3"
  },
  "language_info": {
   "codemirror_mode": {
    "name": "ipython",
    "version": 3
   },
   "file_extension": ".py",
   "mimetype": "text/x-python",
   "name": "python",
   "nbconvert_exporter": "python",
   "pygments_lexer": "ipython3",
   "version": "3.7.4"
  }
 },
 "nbformat": 4,
 "nbformat_minor": 2
}
